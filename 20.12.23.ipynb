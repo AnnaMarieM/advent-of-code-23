{
 "cells": [
  {
   "cell_type": "code",
   "execution_count": 4,
   "id": "eee8a939-bf96-49fe-9d35-1196def56625",
   "metadata": {},
   "outputs": [
    {
     "name": "stdout",
     "output_type": "stream",
     "text": [
      "819397964\n",
      "252667369442479\n"
     ]
    }
   ],
   "source": [
    "from math import lcm, gcd\n",
    "\n",
    "with open(\"20input.txt\") as file:\n",
    "    modules = file.read().split(\"\\n\")\n",
    "\n",
    "# Data processing\n",
    "modules_dict = {module.split(\" -> \")[0][1:] if \"%\" in module.split(\" -> \")[0] or \"&\" in module.split(\" -> \")[0] else module.split(\" -> \")[0]: module.split(\" -> \")[1].split(\", \") for module in modules}\n",
    "flip_flops = {module.split(\" -> \")[0][1:]: 0 for module in modules if \"%\" in module.split(\" -> \")[0]}\n",
    "conjunctions = {module.split(\" -> \")[0][1:]: dict() for module in modules if \"&\" in module.split(\" -> \")[0]}\n",
    "low_pulse_to_rx = \"\"\n",
    "for beginning, end in modules_dict.items():\n",
    "    for conjunction in list(conjunctions.keys()):\n",
    "        if conjunction in end:\n",
    "            conjunctions[conjunction][beginning] = 0\n",
    "    if \"rx\" in end and beginning in list(conjunctions.keys()):\n",
    "        low_pulse_to_rx = beginning\n",
    "\n",
    "# Part 1 and 2 combined\n",
    "low_pulses = 0\n",
    "high_pulses = 0\n",
    "presses = 0\n",
    "low_pulse_to_rx_presses = {}\n",
    "\n",
    "\n",
    "def press_the_button():\n",
    "    global low_pulses, high_pulses, presses\n",
    "    presses += 1\n",
    "    low_pulses += len(modules_dict[\"broadcaster\"]) + 1\n",
    "    queue = []\n",
    "    for pulses_from_broadcaster in modules_dict[\"broadcaster\"]:\n",
    "        queue.append((\"broadcaster\", 0, pulses_from_broadcaster))\n",
    "    while queue:\n",
    "        source, pulse, next = queue.pop(0)\n",
    "        if next == \"rx\":\n",
    "            continue\n",
    "\n",
    "        pulse_to_next = 0\n",
    "        \n",
    "        if next in conjunctions:\n",
    "            conjunctions[next][source] = pulse\n",
    "            if any(n == 0 for n in conjunctions[next].values()):\n",
    "                pulse_to_next = 1\n",
    "        if next in flip_flops:\n",
    "            if pulse == 1:\n",
    "                continue\n",
    "            flip_flops[next] = flip_flops[next] ^ 1\n",
    "            if flip_flops[next] == 1:\n",
    "                pulse_to_next = 1\n",
    "\n",
    "        if pulse_to_next == 1:\n",
    "            high_pulses += len(modules_dict[next])\n",
    "        else:\n",
    "            low_pulses += len(modules_dict[next])\n",
    "        for next_module in modules_dict[next]:\n",
    "            queue.append((next, pulse_to_next, next_module))\n",
    "        for next, val in conjunctions[low_pulse_to_rx].items():\n",
    "            if val == 1 and next not in low_pulse_to_rx_presses:\n",
    "                low_pulse_to_rx_presses[next] = presses\n",
    "\n",
    "\n",
    "for press in range(1000):\n",
    "    press_the_button()\n",
    "\n",
    "print(low_pulses * high_pulses)\n",
    "\n",
    "while len(low_pulse_to_rx_presses) < 4:\n",
    "    press_the_button()\n",
    "\n",
    "print(lcm(*low_pulse_to_rx_presses.values()))"
   ]
  }
 ],
 "metadata": {
  "kernelspec": {
   "display_name": "Python 3 (ipykernel)",
   "language": "python",
   "name": "python3"
  },
  "language_info": {
   "codemirror_mode": {
    "name": "ipython",
    "version": 3
   },
   "file_extension": ".py",
   "mimetype": "text/x-python",
   "name": "python",
   "nbconvert_exporter": "python",
   "pygments_lexer": "ipython3",
   "version": "3.12.0"
  }
 },
 "nbformat": 4,
 "nbformat_minor": 5
}
