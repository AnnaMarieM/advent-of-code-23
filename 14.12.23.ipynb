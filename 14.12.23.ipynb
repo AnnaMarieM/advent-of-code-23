{
 "cells": [
  {
   "cell_type": "code",
   "execution_count": 2,
   "id": "5dc54e64-bff6-4c01-9133-890db9b7193f",
   "metadata": {},
   "outputs": [
    {
     "name": "stdout",
     "output_type": "stream",
     "text": [
      "106378\n",
      "90795\n"
     ]
    }
   ],
   "source": [
    "with open(\"14input.txt\") as file:\n",
    "    stones1 = [list(line) for line in file.read().split(\"\\n\")]\n",
    "    stones2 = stones1.copy()\n",
    "\n",
    "def transpose(matrix):\n",
    "    return [list(row) for row in zip(*matrix)]\n",
    "\n",
    "def mirror_row(matrix):\n",
    "    return [row[::-1] for row in matrix]\n",
    "\n",
    "def tilt_west(mapping):\n",
    "    for index, line in enumerate(mapping):\n",
    "        line = ''.join(line)\n",
    "        change = True\n",
    "        while change == True:\n",
    "            if \".O\" in line:\n",
    "                line = line.replace(\".O\", \"O.\")\n",
    "            else:\n",
    "                change = False\n",
    "        mapping[index] = line\n",
    "    mapping = [list(line) for line in mapping]\n",
    "    return mapping\n",
    "    \n",
    "def tilt(mapping, direction):\n",
    "    if direction == \"N\":\n",
    "        m = transpose(mapping)\n",
    "        m = tilt_west(m)\n",
    "        return transpose(m)\n",
    "    elif direction == \"W\":\n",
    "        return tilt_west(mapping)\n",
    "    elif direction == \"S\":\n",
    "        m = mirror_row(transpose(mapping))\n",
    "        m = tilt_west(m)\n",
    "        return transpose(mirror_row(m))\n",
    "    elif direction == \"E\":\n",
    "        m = mirror_row(mapping)\n",
    "        m = tilt_west(m)\n",
    "        return mirror_row(m)\n",
    "\n",
    "def load_north(mapping):\n",
    "    m = mapping[::-1]\n",
    "    count = 0\n",
    "    for index, line in enumerate(m):\n",
    "        for element in line:\n",
    "            if element == \"O\":\n",
    "                count += index + 1\n",
    "    return count\n",
    "    \n",
    "# Part 1\n",
    "print(load_north(tilt(stones1, \"N\"))) \n",
    "\n",
    "# Part 2\n",
    "s = [(stones2, 0)]\n",
    "i = 1\n",
    "while not seen:\n",
    "    stones2 = tilt(tilt(tilt(tilt(stones2, \"N\"), \"W\"), \"S\"), \"E\")\n",
    "    match_index = next((j for j, (matrix, _) in enumerate(s) if matrix == stones2), None)\n",
    "\n",
    "    if match_index is not None:\n",
    "        len = i\n",
    "        cycle_len = i - match_index\n",
    "        break\n",
    "    else:\n",
    "        s.append((stones2, i))\n",
    "        i += 1\n",
    "\n",
    "i = ((1000000000 - match_index) % cycle_len) + match_index\n",
    "print(load_north(s[i][0]))"
   ]
  }
 ],
 "metadata": {
  "kernelspec": {
   "display_name": "Python 3 (ipykernel)",
   "language": "python",
   "name": "python3"
  },
  "language_info": {
   "codemirror_mode": {
    "name": "ipython",
    "version": 3
   },
   "file_extension": ".py",
   "mimetype": "text/x-python",
   "name": "python",
   "nbconvert_exporter": "python",
   "pygments_lexer": "ipython3",
   "version": "3.12.0"
  }
 },
 "nbformat": 4,
 "nbformat_minor": 5
}
