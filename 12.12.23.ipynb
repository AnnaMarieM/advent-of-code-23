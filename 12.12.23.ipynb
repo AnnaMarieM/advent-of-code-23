{
 "cells": [
  {
   "cell_type": "code",
   "execution_count": 53,
   "id": "853b2a3d-bc2d-4d5c-ac1d-b0f397409df0",
   "metadata": {
    "scrolled": true
   },
   "outputs": [
    {
     "name": "stdout",
     "output_type": "stream",
     "text": [
      "7251\n",
      "2128386729962\n"
     ]
    }
   ],
   "source": [
    "from functools import cache\n",
    "\n",
    "with open(\"12input.txt\") as file:\n",
    "    springs = [spring.split(\" \") for spring in file.read().split(\"\\n\")]\n",
    "\n",
    "@cache # Caching for recursion, we need two variables, not one vector variable\n",
    "def num_possible_combinations(spring,configuration):\n",
    "    spring = spring.lstrip(\".\")\n",
    "\n",
    "    # Check whether the places were assigned successfully and no group of springs left in configuration\n",
    "    if spring == \"\":\n",
    "        if configuration == ():\n",
    "            return 1\n",
    "        else:\n",
    "            return 0\n",
    "\n",
    "    # If we don't need to assign any configuration and in remaining springs there is no # spring left, then configurations were assigned to places successfully\n",
    "    if configuration == ():\n",
    "        if \"#\" not in spring:\n",
    "            return 1\n",
    "        else:\n",
    "            return 0\n",
    "\n",
    "    # Possible \"#\" start of a spring.\n",
    "    if spring[0] == \"#\":\n",
    "        if len(spring) < configuration[0]: # Not possible to have the last configuration as the remaining spring is not long enough\n",
    "            return 0 \n",
    "            \n",
    "        elif \".\" in spring[:configuration[0]]: # Not enough space for configuration\n",
    "            return 0\n",
    "            \n",
    "        elif len(spring) == configuration[0]: \n",
    "            if len(configuration) == 1: # One configuration left and the configuration has length like the remaining spring\n",
    "                return 1\n",
    "            else:\n",
    "                return 0\n",
    "                \n",
    "        elif spring[configuration[0]] == \"#\": # We cannot have spring and right after that another, so if there is \"#\" after potencial ending of the spring it is not possible\n",
    "            return 0\n",
    "            \n",
    "        else: # Spring successfully assigned, find possible combinations for the rest recursively.\n",
    "            spring = spring[configuration[0]+1:]\n",
    "            configuration = configuration[1:]\n",
    "            return num_possible_combinations(spring, configuration) \n",
    "            \n",
    "    # If we have \"?\" in the beginning try both possibilities, which is \"?\" -> \"#\" and \"?\" -> \".\" \n",
    "    return num_possible_combinations(\"#\" + spring[1:], configuration) + num_possible_combinations(spring[1:], configuration)\n",
    "\n",
    "\n",
    "\n",
    "# Part 1\n",
    "config_springs = [[spring[0], tuple(int(s) for s in spring[1].split(\",\"))] for spring in springs]\n",
    "num_configs = []\n",
    "for config in config_springs:\n",
    "    num_configs.append(num_possible_combinations(config[0], config[1]))\n",
    "\n",
    "print(sum(num_configs))\n",
    "\n",
    "# Part 2 - just changing (unfolding) the data\n",
    "config_springs_unfoleded = [['?'.join([s] * 5), c * 5] for [s,c] in config_springs]\n",
    "\n",
    "num_configs_unfolded = []\n",
    "for config in config_springs_unfoleded:\n",
    "    num_configs_unfolded.append(num_possible_combinations(config[0], config[1]))\n",
    "\n",
    "print(sum(num_configs_unfolded))"
   ]
  },
  {
   "cell_type": "code",
   "execution_count": null,
   "id": "13a38834-2e63-4f25-b78f-4ab379d8ac53",
   "metadata": {},
   "outputs": [],
   "source": []
  }
 ],
 "metadata": {
  "kernelspec": {
   "display_name": "Python 3 (ipykernel)",
   "language": "python",
   "name": "python3"
  },
  "language_info": {
   "codemirror_mode": {
    "name": "ipython",
    "version": 3
   },
   "file_extension": ".py",
   "mimetype": "text/x-python",
   "name": "python",
   "nbconvert_exporter": "python",
   "pygments_lexer": "ipython3",
   "version": "3.12.0"
  }
 },
 "nbformat": 4,
 "nbformat_minor": 5
}
