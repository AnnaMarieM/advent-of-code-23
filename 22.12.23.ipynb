{
 "cells": [
  {
   "cell_type": "code",
   "execution_count": 42,
   "id": "d3ff47e7-22ba-4047-98cf-35e190efa065",
   "metadata": {},
   "outputs": [
    {
     "name": "stdout",
     "output_type": "stream",
     "text": [
      "475\n",
      "79144\n"
     ]
    }
   ],
   "source": [
    "import numpy as np\n",
    "with open(\"22input.txt\") as file:\n",
    "    bricks = [[[int(num) for num in coord.split(\",\")] for coord in line.split(\"~\")] for line in file.read().splitlines()]\n",
    "    bricks.sort(key = lambda z:z[0][2])\n",
    "\n",
    "def visualise(bricks):\n",
    "    xz = np.zeros((max(bricks, key = lambda x: x[1][2])[1][2] + 1, max(bricks, key = lambda x: x[1][0])[1][0] + 1), int)\n",
    "    yz = np.zeros((max(bricks, key = lambda x: x[1][2])[1][2] + 1, max(bricks, key = lambda x: x[1][1])[1][1] + 1), int)\n",
    "    for index, brick in enumerate(bricks):\n",
    "        for z in range(brick[0][2], brick[1][2]+1):\n",
    "            for x in range(brick[0][0], brick[1][0]+1):\n",
    "                xz[z][x] = index + 1\n",
    "            for y in range(brick[0][1], brick[1][1]+1):\n",
    "                yz[z][y] = index + 1\n",
    "    print(np.flipud(xz), \"\\n\")\n",
    "    print(np.flipud(yz), \"\\n\")\n",
    "\n",
    "#visualise(bricks)\n",
    "\n",
    "def fall(bricks, update = False, not_consider = None):\n",
    "    fallen_bricks = 0\n",
    "    heights = {}\n",
    "    for current_brick in bricks:\n",
    "        if current_brick == not_consider:\n",
    "            continue\n",
    "        (x0, y0, z0), (x1, y1, z1) = current_brick\n",
    "        brick_coordinates = [(x, y) for x in range(x0, x1 + 1) for y in range(y0, y1 + 1)]\n",
    "        max_height = max(heights.get(xy, 0) for xy in brick_coordinates)\n",
    "        drop_amount = z0 - max_height - 1\n",
    "        if drop_amount:\n",
    "            fallen_bricks += 1  \n",
    "            z1 -= drop_amount \n",
    "            if update:\n",
    "                current_brick[0][2] -= drop_amount\n",
    "                current_brick[1][2] -= drop_amount\n",
    "        for xy in brick_coordinates:\n",
    "            heights[xy] = z1\n",
    "    return fallen_bricks\n",
    "\n",
    "fall(bricks, update = True)\n",
    "\n",
    "drops = []\n",
    "for brick in bricks:\n",
    "    drops.append(fall(bricks, not_consider = brick))\n",
    "    \n",
    "print(drops.count(0))\n",
    "print(sum(drops))"
   ]
  },
  {
   "cell_type": "code",
   "execution_count": null,
   "id": "ee8f5a1d-6edd-418f-9323-1c26d303d5b5",
   "metadata": {},
   "outputs": [],
   "source": []
  }
 ],
 "metadata": {
  "kernelspec": {
   "display_name": "Python 3 (ipykernel)",
   "language": "python",
   "name": "python3"
  },
  "language_info": {
   "codemirror_mode": {
    "name": "ipython",
    "version": 3
   },
   "file_extension": ".py",
   "mimetype": "text/x-python",
   "name": "python",
   "nbconvert_exporter": "python",
   "pygments_lexer": "ipython3",
   "version": "3.12.0"
  }
 },
 "nbformat": 4,
 "nbformat_minor": 5
}
