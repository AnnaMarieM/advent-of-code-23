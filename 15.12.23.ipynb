{
 "cells": [
  {
   "cell_type": "code",
   "execution_count": 3,
   "id": "c4896de1-97e3-4540-ad42-9b9afc1ea790",
   "metadata": {},
   "outputs": [
    {
     "name": "stdout",
     "output_type": "stream",
     "text": [
      "516469\n",
      "221627\n"
     ]
    }
   ],
   "source": [
    "with open(\"15input.txt\") as file:\n",
    "    tokens = file.read().split(\",\")\n",
    "\n",
    "# Part 1\n",
    "value1 = 0\n",
    "for token in tokens:\n",
    "    v = 0\n",
    "    for char in token:\n",
    "        v = ((v + ord(char)) * 17) % 256\n",
    "    value1 += v\n",
    "    \n",
    "print(value1)\n",
    "\n",
    "# Part 2\n",
    "boxes_dict = {key: [] for key in range(0, 256 + 1)}\n",
    "for token in tokens:\n",
    "    if \"-\" in token:\n",
    "        box = 0\n",
    "        p1 = token.split(\"-\")[0]\n",
    "        for char in p1:\n",
    "            box = ((box + ord(char)) * 17) % 256\n",
    "        for val in boxes_dict[box]:\n",
    "            if p1 in val:\n",
    "                boxes_dict[box].remove(val)            \n",
    "      \n",
    "    elif \"=\" in token:\n",
    "        token = token.split(\"=\")\n",
    "        p1 = token[0]\n",
    "        p2 = int(token[1])\n",
    "        box = 0\n",
    "        for char in p1:\n",
    "            box = ((box + ord(char)) * 17) % 256\n",
    "        changed = False\n",
    "        for index, val in enumerate(boxes_dict[box]):\n",
    "            if p1 in val:\n",
    "                boxes_dict[box][index] = [p1,p2]\n",
    "                changed = True\n",
    "                break\n",
    "        \n",
    "        if changed == False:\n",
    "            boxes_dict[box].append([p1,p2])  \n",
    "\n",
    "value2 = 0\n",
    "for i, box in boxes_dict.items():\n",
    "    for j, value in enumerate(box):\n",
    "        #print((i + 1) * (j + 1) * value[1])\n",
    "        value2 += (i + 1) * (j + 1) * value[1]\n",
    "        \n",
    "print(value2)"
   ]
  },
  {
   "cell_type": "code",
   "execution_count": null,
   "id": "3ebb47f4-fdb7-469b-8b48-77b35d4bb082",
   "metadata": {},
   "outputs": [],
   "source": []
  }
 ],
 "metadata": {
  "kernelspec": {
   "display_name": "Python 3 (ipykernel)",
   "language": "python",
   "name": "python3"
  },
  "language_info": {
   "codemirror_mode": {
    "name": "ipython",
    "version": 3
   },
   "file_extension": ".py",
   "mimetype": "text/x-python",
   "name": "python",
   "nbconvert_exporter": "python",
   "pygments_lexer": "ipython3",
   "version": "3.12.0"
  }
 },
 "nbformat": 4,
 "nbformat_minor": 5
}
