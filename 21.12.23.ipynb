{
 "cells": [
  {
   "cell_type": "code",
   "execution_count": 2,
   "id": "0ab583e3-5602-4b35-9def-a5c250bdd7bc",
   "metadata": {},
   "outputs": [
    {
     "name": "stdout",
     "output_type": "stream",
     "text": [
      "3737\n",
      "625382480005896\n"
     ]
    }
   ],
   "source": [
    "import numpy as np\n",
    "with open(\"21input.txt\") as file:\n",
    "    garden = [[block for block in line] for line in file.read().splitlines()]\n",
    "\n",
    "#print(np.array(garden))\n",
    "\n",
    "    \n",
    "def garden_walk(positions, steps, garden):\n",
    "    if steps == 0:\n",
    "        #print(len(positions))\n",
    "        return len(positions)\n",
    "        \n",
    "    neighbors = set()\n",
    "    for pos in positions:\n",
    "        possible_neighbors = [(pos[0] + 1, pos[1]), (pos[0] - 1, pos[1]), (pos[0], pos[1] + 1), (pos[0], pos[1] - 1)]\n",
    "        for neighbour in possible_neighbors:\n",
    "            if garden[neighbour[0] % len(garden)][neighbour[1] % len(garden[0])] == \".\" or garden[neighbour[0] % len(garden)][neighbour[1] % len(garden[0])] == \"S\":\n",
    "                neighbors.add(neighbour)\n",
    "                \n",
    "    return garden_walk(neighbors, steps - 1, garden)\n",
    "         \n",
    "\n",
    "# Part 1\n",
    "positions = set((i, j) for i, row in enumerate(garden) for j, value in enumerate(row) if value == \"S\")\n",
    "print(garden_walk(positions, 64, garden))\n",
    "\n",
    "# Part 2 - quadratic extrapolation (The main thing to notice for part 2 is that the grid is a square, and there are no obstacles in the same row/col of the starting point.\n",
    "# Let f(n) be the number of spaces you can reach after n steps. Let X be the length of your input grid. f(n), f(n+X), f(n+2X), ...., is a quadratic, so you can find it by \n",
    "#finding the first 3 values, then use that to interpolate the final answer.\n",
    "\n",
    "def count_reachable_plots(steps, observed_data):\n",
    "    x = np.array([point[0] for point in observed_data])\n",
    "    y = np.array([point[1] for point in observed_data])\n",
    "    coefficients = np.polyfit(x, y, 2)\n",
    "    extrapolated_result = np.polyval(coefficients, steps)\n",
    "    return int(extrapolated_result)\n",
    "\n",
    "obsedved_data = []\n",
    "n = len(garden)\n",
    "desired_steps = 26501365\n",
    "steps = [desired_steps % n, desired_steps % n + n, desired_steps % n + 2*n]\n",
    "for i in steps:\n",
    "    positions = set((i, j) for i, row in enumerate(garden) for j, value in enumerate(row) if value == \"S\")\n",
    "    obsedved_data.append((i, garden_walk(positions, i, garden)))\n",
    "\n",
    "result = count_reachable_plots(desired_steps, obsedved_data)\n",
    "print(result)\n"
   ]
  },
  {
   "cell_type": "code",
   "execution_count": null,
   "id": "72bfec4b-ff73-4198-9946-0d59821696bd",
   "metadata": {},
   "outputs": [],
   "source": []
  }
 ],
 "metadata": {
  "kernelspec": {
   "display_name": "Python 3 (ipykernel)",
   "language": "python",
   "name": "python3"
  },
  "language_info": {
   "codemirror_mode": {
    "name": "ipython",
    "version": 3
   },
   "file_extension": ".py",
   "mimetype": "text/x-python",
   "name": "python",
   "nbconvert_exporter": "python",
   "pygments_lexer": "ipython3",
   "version": "3.12.0"
  }
 },
 "nbformat": 4,
 "nbformat_minor": 5
}
