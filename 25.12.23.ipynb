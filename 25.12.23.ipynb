{
 "cells": [
  {
   "cell_type": "code",
   "execution_count": 38,
   "id": "cf31b440-60b2-4a4b-8dd4-4ee1b3beac99",
   "metadata": {},
   "outputs": [
    {
     "name": "stdout",
     "output_type": "stream",
     "text": [
      "[782, 745]\n",
      "582590\n"
     ]
    }
   ],
   "source": [
    "import networkx as nx\n",
    "\n",
    "with open(\"25input.txt\") as file:\n",
    "    wires = file.read().splitlines()\n",
    "\n",
    "machine = nx.Graph()\n",
    "for wire in wires:\n",
    "    init, ends = wire.split(\": \")[0], wire.split(\": \")[1].split() \n",
    "    for end in ends:\n",
    "        machine.add_edge(init, end)\n",
    "        \n",
    "min_cut = nx.minimum_edge_cut(machine)\n",
    "for edge in min_cut:\n",
    "    machine.remove_edge(edge[0], edge [1])\n",
    "    \n",
    "num_nodes_for_groups = [len(c) for c in nx.connected_components(machine)]\n",
    "print(num_nodes_for_groups)\n",
    "\n",
    "product = 1\n",
    "for group in num_nodes_for_groups:\n",
    "    product *= group\n",
    "\n",
    "print(product)"
   ]
  }
 ],
 "metadata": {
  "kernelspec": {
   "display_name": "Python 3 (ipykernel)",
   "language": "python",
   "name": "python3"
  },
  "language_info": {
   "codemirror_mode": {
    "name": "ipython",
    "version": 3
   },
   "file_extension": ".py",
   "mimetype": "text/x-python",
   "name": "python",
   "nbconvert_exporter": "python",
   "pygments_lexer": "ipython3",
   "version": "3.12.0"
  }
 },
 "nbformat": 4,
 "nbformat_minor": 5
}
