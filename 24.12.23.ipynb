{
 "cells": [
  {
   "cell_type": "code",
   "execution_count": 1,
   "id": "ac9e0b2a-f7d0-4685-b520-7c8570c4dab7",
   "metadata": {
    "scrolled": true
   },
   "outputs": [
    {
     "name": "stdout",
     "output_type": "stream",
     "text": [
      "15262\n",
      "695832176624149\n"
     ]
    }
   ],
   "source": [
    "from sympy import symbols, Eq, solve\n",
    "\n",
    "with open(\"24input.txt\") as file:\n",
    "    hailstones = [[[int(c) for c in coordinate.split(\", \")] for coordinate in stone.split(\" @ \")] for stone in file.read().splitlines()]\n",
    "    hailstones2 = hailstones.copy()\n",
    "\n",
    "# Part 1\n",
    "def linear_function(x1, y1, x2, y2):\n",
    "    slope = (y2 - y1) / (x2 - x1)\n",
    "    intercept = y1 - slope * x1\n",
    "    if x1 > x2:\n",
    "        interval = (-float('inf'), x1)\n",
    "    else:\n",
    "        interval = (x1, float('inf'))\n",
    "    return (slope, intercept, interval)\n",
    "\n",
    "def find_intersection(function1, function2):\n",
    "    m1, b1, interval1 = function1\n",
    "    m2, b2, interval2 = function2\n",
    "    if m1 == m2:\n",
    "        return (0, 0)\n",
    "    intersection_x = (b2 - b1) / (m1 - m2)\n",
    "    intersection_y = m1 * intersection_x + b1\n",
    "    if (interval1[0] <= intersection_x <= interval1[1]) and (interval2[0] <= intersection_x <= interval2[1]):\n",
    "        return (intersection_x, intersection_y)\n",
    "    else:\n",
    "        return (0, 0)\n",
    "\n",
    "def intersections(paths, min, max):\n",
    "    intersection_of_paths = []\n",
    "    for i, stone1 in enumerate(hailstones[:-1]):\n",
    "        for j in range(i+1, len(hailstones)):\n",
    "            stone2 = hailstones[j]\n",
    "            intersection = find_intersection(linear_function(stone1[0][0],stone1[0][1],stone1[0][0] + stone1[1][0],stone1[0][1] + stone1[1][1]), linear_function(stone2[0][0],stone2[0][1],stone2[0][0] + stone2[1][0],stone2[0][1] + stone2[1][1]))\n",
    "            if min <= intersection[0] <= max and min <= intersection[1] <= max:\n",
    "                intersection_of_paths.append(intersection)\n",
    "    return intersection_of_paths      \n",
    "\n",
    "i = intersections(hailstones, 200000000000000, 400000000000000)\n",
    "print(len(i))\n",
    "\n",
    "# Part 2\n",
    "def system(hailstones):\n",
    "    a, b, c, d, e, f = symbols(\"a b c d e f\")\n",
    "    equations = []\n",
    "    for hailstone in hailstones[:4]:\n",
    "        eq1 = Eq((hailstone[0][1] - b)*(d - hailstone[1][0]) - (hailstone[0][0] - a)*(e - hailstone[1][1]), 0)\n",
    "        eq2 = Eq((hailstone[0][2] - c)*(d - hailstone[1][0]) - (hailstone[0][0] - a)*(f - hailstone[1][2]), 0)\n",
    "        equations.extend([eq1, eq2])\n",
    "    solution = solve(equations, (a, b, c, d, e, f))\n",
    "    \n",
    "    if solution: return solution\n",
    "    else: return [(0, 0, 0, 0, 0, 0)]\n",
    "\n",
    "# Example usage:\n",
    "sol = system(hailstones2)\n",
    "print(sol[0][0] + sol[0][1] + sol[0][2])"
   ]
  }
 ],
 "metadata": {
  "kernelspec": {
   "display_name": "Python 3 (ipykernel)",
   "language": "python",
   "name": "python3"
  },
  "language_info": {
   "codemirror_mode": {
    "name": "ipython",
    "version": 3
   },
   "file_extension": ".py",
   "mimetype": "text/x-python",
   "name": "python",
   "nbconvert_exporter": "python",
   "pygments_lexer": "ipython3",
   "version": "3.12.0"
  }
 },
 "nbformat": 4,
 "nbformat_minor": 5
}
