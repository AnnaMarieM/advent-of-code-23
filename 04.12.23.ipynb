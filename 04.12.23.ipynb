{
 "cells": [
  {
   "cell_type": "code",
   "execution_count": 1,
   "id": "a1afe770-6f75-4a36-a347-e85f77b11715",
   "metadata": {},
   "outputs": [],
   "source": [
    "with open(\"04input.txt\") as file:\n",
    "    cards = file.read().replace(\"\\n\", \" \").split(\"Card \")[1:]"
   ]
  },
  {
   "cell_type": "code",
   "execution_count": 2,
   "id": "95fe3ca6-e00e-4963-bd82-adf7ac1e1ebd",
   "metadata": {},
   "outputs": [
    {
     "name": "stdout",
     "output_type": "stream",
     "text": [
      "19135\n",
      "5704953\n"
     ]
    }
   ],
   "source": [
    "points = 0\n",
    "card_dict = {}\n",
    "i = 1\n",
    "\n",
    "for card in cards:\n",
    "    card = \" \".join(card.split(\": \")[1:]).strip().replace(\"  \", \" \")\n",
    "    winning_nums = card.split(\" | \")[0].split(\" \")\n",
    "    nums =  card.split(\" | \")[1].split(\" \")\n",
    "\n",
    "    wins = []\n",
    "    \n",
    "    for num in winning_nums:\n",
    "        if num in nums:\n",
    "            wins.append(num)\n",
    "\n",
    "    if len(wins) > 0:\n",
    "        points += (2 ** (len(wins) - 1))\n",
    "\n",
    "    card_dict[i] = [1, len(wins)] \n",
    "    i += 1\n",
    "\n",
    "for card_num, card in card_dict.items():\n",
    "    wins = card[1]\n",
    "    for i in range(card[0]):\n",
    "        for j in range(1, card[1] + 1):\n",
    "            if card_num + j <= len(card_dict):\n",
    "                card_dict[card_num + j][0] += 1\n",
    "\n",
    "print(points)\n",
    "\n",
    "num_cards = sum(card[0] for card in card_dict.values())\n",
    "print(num_cards)"
   ]
  }
 ],
 "metadata": {
  "kernelspec": {
   "display_name": "Python 3 (ipykernel)",
   "language": "python",
   "name": "python3"
  },
  "language_info": {
   "codemirror_mode": {
    "name": "ipython",
    "version": 3
   },
   "file_extension": ".py",
   "mimetype": "text/x-python",
   "name": "python",
   "nbconvert_exporter": "python",
   "pygments_lexer": "ipython3",
   "version": "3.9.17"
  }
 },
 "nbformat": 4,
 "nbformat_minor": 5
}
