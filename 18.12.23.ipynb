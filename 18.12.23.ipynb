{
 "cells": [
  {
   "cell_type": "code",
   "execution_count": 4,
   "id": "e1c37dac-a35f-4f84-a501-c2684b555d4f",
   "metadata": {},
   "outputs": [
    {
     "name": "stdout",
     "output_type": "stream",
     "text": [
      "36679\n",
      "88007104020978\n"
     ]
    }
   ],
   "source": [
    "with open(\"18input.txt\") as file:\n",
    "    dig_plan = [coordinate.split(\" (\") for coordinate in file.read().split(\"\\n\")]\n",
    "\n",
    "def volume_shoelace(vertices):\n",
    "    n = len(vertices)\n",
    "    area = 0\n",
    "    for i in range(n):\n",
    "        x1, y1 = vertices[i]\n",
    "        x2, y2 = vertices[(i + 1) % n]\n",
    "        area += (x1 * y2 - x2 * y1)\n",
    "    return abs(area) // 2\n",
    "\n",
    "def distance(p1, p2):\n",
    "    return abs(p1[0] - p2[0]) + abs(p1[1] - p2[1])\n",
    "\n",
    "def volume_path(path):\n",
    "    volume = 0\n",
    "    for i in range(len(path) - 1):\n",
    "        volume += distance(path[i], path[i + 1])\n",
    "    return volume // 2 + 1\n",
    "\n",
    "# Part 1    \n",
    "path = [(0, 0)]\n",
    "for entry in dig_plan:\n",
    "    coordinate = entry[0].split()\n",
    "    if coordinate[0] == \"R\":\n",
    "        path.append((path[-1][0], path[-1][1] + int(coordinate[1])))\n",
    "    elif coordinate[0] == \"L\":  \n",
    "        path.append((path[-1][0], path[-1][1] - int(coordinate[1])))\n",
    "    elif coordinate[0] == \"U\":\n",
    "        path.append((path[-1][0] - int(coordinate[1]), path[-1][1]))\n",
    "    elif coordinate[0] == \"D\":\n",
    "        path.append((path[-1][0] + int(coordinate[1]), path[-1][1]))\n",
    "\n",
    "lagoon_volume = volume_shoelace(path) + volume_path(path)\n",
    "print(lagoon_volume)\n",
    "\n",
    "# Part 2\n",
    "def hex_to_direction(hex):\n",
    "    hex_distance = hex[1:][:-1]  \n",
    "    hex_direction = hex[1:][-1]   \n",
    "    \n",
    "    distance = int(hex_distance, 16)\n",
    "    direction_mapping = {'0': 'R', '1': 'D', '2': 'L', '3': 'U'}\n",
    "    direction = direction_mapping.get(hex_direction, 'R')\n",
    "    \n",
    "    return [direction, distance]\n",
    "    \n",
    "correct_path = [(0, 0)]\n",
    "for entry in dig_plan:\n",
    "    coordinate = hex_to_direction(entry[1][:-1])\n",
    "    if coordinate[0] == \"R\":\n",
    "        correct_path.append((correct_path[-1][0], correct_path[-1][1] + int(coordinate[1])))\n",
    "    elif coordinate[0] == \"L\":  \n",
    "        correct_path.append((correct_path[-1][0], correct_path[-1][1] - int(coordinate[1])))\n",
    "    elif coordinate[0] == \"U\":\n",
    "        correct_path.append((correct_path[-1][0] - int(coordinate[1]), correct_path[-1][1]))\n",
    "    elif coordinate[0] == \"D\":\n",
    "        correct_path.append((correct_path[-1][0] + int(coordinate[1]), correct_path[-1][1]))\n",
    "\n",
    "correct_lagoon_volume = volume_shoelace(correct_path) + volume_path(correct_path)\n",
    "print(correct_lagoon_volume)"
   ]
  }
 ],
 "metadata": {
  "kernelspec": {
   "display_name": "Python 3 (ipykernel)",
   "language": "python",
   "name": "python3"
  },
  "language_info": {
   "codemirror_mode": {
    "name": "ipython",
    "version": 3
   },
   "file_extension": ".py",
   "mimetype": "text/x-python",
   "name": "python",
   "nbconvert_exporter": "python",
   "pygments_lexer": "ipython3",
   "version": "3.12.0"
  }
 },
 "nbformat": 4,
 "nbformat_minor": 5
}
