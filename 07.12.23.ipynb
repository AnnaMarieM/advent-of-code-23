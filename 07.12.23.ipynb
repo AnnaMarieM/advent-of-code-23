{
 "cells": [
  {
   "cell_type": "code",
   "execution_count": 1,
   "id": "9da19e56-e229-41ea-a762-1e34a0a97db9",
   "metadata": {},
   "outputs": [],
   "source": [
    "with open(\"07input.txt\") as file:\n",
    "    camel_cards = file.read().split(\"\\n\")\n",
    "    \n",
    "hands = [tuple(hand.split()) for hand in camel_cards]"
   ]
  },
  {
   "cell_type": "code",
   "execution_count": 4,
   "id": "dc5dcf69-1003-4896-be0c-e8d5da77a33a",
   "metadata": {},
   "outputs": [
    {
     "name": "stdout",
     "output_type": "stream",
     "text": [
      "249204891\n"
     ]
    }
   ],
   "source": [
    "# Part 1\n",
    "hand_type_dict = {\"high_card\": [], \"one_pair\": [], \"two_pair\" : [], \"three_of_a_kind\" : [], \"full_house\" : [], \"four_of_a_kind\" : [], \"five_of_a_kind\" : []}\n",
    "\n",
    "for hand in hands:\n",
    "    if len(set(hand[0])) == 1:\n",
    "        hand_type_dict[\"five_of_a_kind\"].append(hand)\n",
    "        \n",
    "    elif any(hand[0].count(char) == 4 for char in set(hand[0])):\n",
    "        hand_type_dict[\"four_of_a_kind\"].append(hand)\n",
    "        \n",
    "    elif len(set(hand[0])) == 2:\n",
    "        hand_type_dict[\"full_house\"].append(hand)\n",
    "        \n",
    "    elif len(set(hand[0])) == 3:\n",
    "        if any(hand[0].count(char) == 3 for char in set(hand[0])):\n",
    "            hand_type_dict[\"three_of_a_kind\"].append(hand)\n",
    "            \n",
    "        else:\n",
    "            hand_type_dict[\"two_pair\"].append(hand)\n",
    "            \n",
    "    elif len(set(hand[0])) == 4:\n",
    "        hand_type_dict[\"one_pair\"].append(hand)\n",
    "        \n",
    "    elif len(set(hand[0])) == 5:\n",
    "        hand_type_dict[\"high_card\"].append(hand)\n",
    "        \n",
    "\n",
    "def sort_within_1(list_of_tuples):\n",
    "    mapping = {\"T\": \"B\", \"J\": \"C\", \"Q\": \"D\", \"K\": \"E\", \"A\": \"F\"}\n",
    "    list_of_tuples = sorted([(''.join(mapping.get(char, char) for char in tupl[0]), tupl[1]) for tupl in list_of_tuples])\n",
    "    return list_of_tuples\n",
    "\n",
    "\n",
    "rank = 1\n",
    "total_rank = 0\n",
    "for strength in hand_type_dict:\n",
    "    cards = sort_within_1(hand_type_dict[strength])\n",
    "    for card in cards:\n",
    "        total_rank += rank * int(card[1])\n",
    "        rank += 1\n",
    "        \n",
    "print(total_rank)"
   ]
  },
  {
   "cell_type": "code",
   "execution_count": 5,
   "id": "3be7a779-5b66-462c-8ba8-1c085ceda0e7",
   "metadata": {},
   "outputs": [
    {
     "name": "stdout",
     "output_type": "stream",
     "text": [
      "249666369\n"
     ]
    }
   ],
   "source": [
    "# Part 2 now with Jokers\n",
    "hand_type_dict = {\"high_card\": [], \"one_pair\": [], \"two_pair\" : [], \"three_of_a_kind\" : [], \"full_house\" : [], \"four_of_a_kind\" : [], \"five_of_a_kind\" : []}\n",
    "\n",
    "for hand in hands:\n",
    "    s = set(hand[0])\n",
    "    s.discard(\"J\")\n",
    "    \n",
    "    if len(s) <= 1:\n",
    "        hand_type_dict[\"five_of_a_kind\"].append(hand)\n",
    "        \n",
    "    elif any(hand[0].count(char) + hand[0].count(\"J\") == 4 for char in s):\n",
    "        hand_type_dict[\"four_of_a_kind\"].append(hand)\n",
    "        \n",
    "    elif len(s) == 2:\n",
    "        hand_type_dict[\"full_house\"].append(hand)\n",
    "        \n",
    "    elif len(s) == 3:\n",
    "        if any(hand[0].count(char) + hand[0].count(\"J\") == 3 for char in s):\n",
    "            hand_type_dict[\"three_of_a_kind\"].append(hand)\n",
    "            \n",
    "        else:\n",
    "            hand_type_dict[\"two_pair\"].append(hand)\n",
    "            \n",
    "    elif len(s) == 4:\n",
    "        hand_type_dict[\"one_pair\"].append(hand)\n",
    "        \n",
    "    elif len(s) == 5:\n",
    "        hand_type_dict[\"high_card\"].append(hand)\n",
    "        \n",
    "\n",
    "def sort_within_2(list_of_tuples):\n",
    "    mapping = mapping = {\"T\": \"B\", \"J\": \"1\", \"Q\": \"D\", \"K\": \"E\", \"A\": \"F\"}\n",
    "    list_of_tuples = sorted([(''.join(mapping.get(char, char) for char in tupl[0]), tupl[1]) for tupl in list_of_tuples])\n",
    "    return list_of_tuples\n",
    "\n",
    "\n",
    "rank = 1\n",
    "total_rank = 0\n",
    "for strength in hand_type_dict:\n",
    "    cards = sort_within_2(hand_type_dict[strength])\n",
    "    for card in cards:\n",
    "        total_rank += rank * int(card[1])\n",
    "        rank += 1\n",
    "        \n",
    "print(total_rank)"
   ]
  },
  {
   "cell_type": "code",
   "execution_count": null,
   "id": "0d4b0971-3ef4-4689-80f8-fad9d40cdd84",
   "metadata": {},
   "outputs": [],
   "source": []
  }
 ],
 "metadata": {
  "kernelspec": {
   "display_name": "Python 3",
   "language": "python",
   "name": "python3"
  },
  "language_info": {
   "codemirror_mode": {
    "name": "ipython",
    "version": 3
   },
   "file_extension": ".py",
   "mimetype": "text/x-python",
   "name": "python",
   "nbconvert_exporter": "python",
   "pygments_lexer": "ipython3",
   "version": "3.6.13"
  }
 },
 "nbformat": 4,
 "nbformat_minor": 5
}
