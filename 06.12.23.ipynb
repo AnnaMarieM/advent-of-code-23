{
 "cells": [
  {
   "cell_type": "code",
   "execution_count": 1,
   "id": "935d57ea-b9d5-435e-8169-a7c7d71e8083",
   "metadata": {},
   "outputs": [],
   "source": [
    "with open(\"06input.txt\") as file:\n",
    "    races = file.read().split(\"\\n\")\n",
    "\n",
    "races = [race.split(\": \") for race in races]\n",
    "\n",
    "times = [int(num) for num in races[0][1].split()]\n",
    "max_distances =  [int(num) for num in races[1][1].split()]"
   ]
  },
  {
   "cell_type": "code",
   "execution_count": 2,
   "id": "6fe11a78-4071-4921-9587-b098438260e1",
   "metadata": {},
   "outputs": [
    {
     "name": "stdout",
     "output_type": "stream",
     "text": [
      "220320\n"
     ]
    }
   ],
   "source": [
    "# Part 1 - multiple short races\n",
    "def winning_race(time, current_max_distance):\n",
    "    winning_way = []\n",
    "    for milisecond in range(0,time):\n",
    "        actual_distance = milisecond * (time - milisecond) # Speed * time_moving \n",
    "        if actual_distance > current_max_distance:\n",
    "            winning_way.append((milisecond, actual_distance))\n",
    "    return len(winning_way)\n",
    "\n",
    "prod = 1\n",
    "for time, current_max_distance in zip(times, max_distances):\n",
    "    prod *= winning_race(time, current_max_distance)\n",
    "    \n",
    "print(prod)"
   ]
  },
  {
   "cell_type": "code",
   "execution_count": 3,
   "id": "881a29be-3265-4dfa-9bf9-af16d896c460",
   "metadata": {},
   "outputs": [
    {
     "data": {
      "text/plain": [
       "34454850"
      ]
     },
     "execution_count": 3,
     "metadata": {},
     "output_type": "execute_result"
    }
   ],
   "source": [
    "# Part 2 - one long race\n",
    "def winning_race_one(time, current_max_distance):  # Just a bit more effective old function (running time 20s to 8s with the new function)\n",
    "    winning_way = 0\n",
    "    for milisecond in range(0,time):\n",
    "        actual_distance = milisecond * (time - milisecond)\n",
    "        if actual_distance > current_max_distance:\n",
    "            winning_way += 1\n",
    "    return winning_way\n",
    "\n",
    "time = int(races[0][1].replace(\" \", \"\"))\n",
    "max_distance = int(races[1][1].replace(\" \", \"\"))\n",
    "\n",
    "winning_race_one(time, max_distance)"
   ]
  },
  {
   "cell_type": "code",
   "execution_count": null,
   "id": "235a96ad-a6f9-47b6-b496-4cb46f184da6",
   "metadata": {},
   "outputs": [],
   "source": []
  }
 ],
 "metadata": {
  "kernelspec": {
   "display_name": "Python 3",
   "language": "python",
   "name": "python3"
  },
  "language_info": {
   "codemirror_mode": {
    "name": "ipython",
    "version": 3
   },
   "file_extension": ".py",
   "mimetype": "text/x-python",
   "name": "python",
   "nbconvert_exporter": "python",
   "pygments_lexer": "ipython3",
   "version": "3.6.13"
  }
 },
 "nbformat": 4,
 "nbformat_minor": 5
}
