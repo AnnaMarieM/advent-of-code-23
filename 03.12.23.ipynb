{
 "cells": [
  {
   "cell_type": "code",
   "execution_count": 1,
   "id": "11ea856f-f550-4800-82ba-d172aea41d5c",
   "metadata": {
    "scrolled": true
   },
   "outputs": [],
   "source": [
    "with open(\"03input.txt\") as file:\n",
    "    motor_scheme = file.read().split(\"\\n\")"
   ]
  },
  {
   "cell_type": "code",
   "execution_count": 2,
   "id": "e2fe6d82-a983-400f-a067-5a526780c50a",
   "metadata": {},
   "outputs": [
    {
     "name": "stdout",
     "output_type": "stream",
     "text": [
      "527369\n"
     ]
    }
   ],
   "source": [
    "# Data processing\n",
    "import re\n",
    "\n",
    "nums = []\n",
    "for line_number, line in enumerate(motor_scheme):\n",
    "    num_matches = re.finditer(r'\\d+', line)\n",
    "    num = [[int(match.group()), line_number, match.start(), len(match.group()), False] for match in num_matches]  # number, row, column, length, False\n",
    "    for i in num:\n",
    "        nums.append(i)\n",
    "      \n",
    "symbols = []\n",
    "for line_number, line in enumerate(motor_scheme):\n",
    "    symbol = [(s, line_number, i) for i, s in enumerate(line) if (not s.isdigit()) and s != \".\"]   # symbol, row, column\n",
    "    for tup in symbol:\n",
    "        symbols.append(tup)\n",
    "\n",
    "# First part\n",
    "for symbol in symbols:\n",
    "    x = symbol[1]\n",
    "    y = symbol[2]\n",
    "    for num in nums:\n",
    "        if (abs(x-num[1]) <= 1) and (y - num[3] <= num[2] <= y + 1):\n",
    "            num[4] = True\n",
    "\n",
    "sum = 0\n",
    "for num in nums:\n",
    "    if num[4] == True:\n",
    "        sum += num[0]\n",
    "\n",
    "print(sum)"
   ]
  },
  {
   "cell_type": "code",
   "execution_count": 3,
   "id": "a4696338-a5fc-44b1-a188-e4de5130bbe1",
   "metadata": {},
   "outputs": [
    {
     "name": "stdout",
     "output_type": "stream",
     "text": [
      "73074886\n"
     ]
    }
   ],
   "source": [
    "# Second part\n",
    "multiplication = 0\n",
    "for symbol in symbols:\n",
    "    if symbol[0] == \"*\":\n",
    "        x = symbol[1]\n",
    "        y = symbol[2]\n",
    "        adj = []\n",
    "        for num in nums:\n",
    "            if (abs(x-num[1]) <= 1) and (y - num[3] <= num[2] <= y + 1):\n",
    "                adj.append(num[0])\n",
    "        if len(adj) == 2:\n",
    "            multiplication += adj[0] * adj[1] \n",
    "\n",
    "print(multiplication)"
   ]
  }
 ],
 "metadata": {
  "kernelspec": {
   "display_name": "Python 3 (ipykernel)",
   "language": "python",
   "name": "python3"
  },
  "language_info": {
   "codemirror_mode": {
    "name": "ipython",
    "version": 3
   },
   "file_extension": ".py",
   "mimetype": "text/x-python",
   "name": "python",
   "nbconvert_exporter": "python",
   "pygments_lexer": "ipython3",
   "version": "3.9.17"
  }
 },
 "nbformat": 4,
 "nbformat_minor": 5
}
