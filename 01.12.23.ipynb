{
 "cells": [
  {
   "cell_type": "code",
   "execution_count": 1,
   "id": "8a70d822-f753-4ffc-8f7e-c2a71bffbb16",
   "metadata": {},
   "outputs": [],
   "source": [
    "with open(\"01input.txt\") as file:\n",
    "    calibrations = file.read().split(\"\\n\")"
   ]
  },
  {
   "cell_type": "code",
   "execution_count": 2,
   "id": "87de3772-7b13-422d-8776-d4315e144370",
   "metadata": {},
   "outputs": [
    {
     "name": "stdout",
     "output_type": "stream",
     "text": [
      "54388\n"
     ]
    }
   ],
   "source": [
    "# First part\n",
    "value_1 = 0\n",
    "\n",
    "for calibration in calibrations:\n",
    "    inp = list(calibration)\n",
    "    digits = []\n",
    "    \n",
    "    for i in inp:\n",
    "        if i.isdigit():\n",
    "            digits.append(i)\n",
    "\n",
    "    value_1 += int(digits[0] + digits[-1])\n",
    "\n",
    "print(value_1)"
   ]
  },
  {
   "cell_type": "code",
   "execution_count": 3,
   "id": "3cb34503-a404-4d12-bdde-cf95432fc9ec",
   "metadata": {},
   "outputs": [
    {
     "name": "stdout",
     "output_type": "stream",
     "text": [
      "53515\n"
     ]
    }
   ],
   "source": [
    "# Second part\n",
    "value_2 = 0\n",
    "\n",
    "for calibration in calibrations:\n",
    "    replace_dict = {\"one\": \"1\", \"two\": \"2\", \"three\": \"3\", \"four\": \"4\", \"five\": \"5\", \"six\": \"6\", \"seven\": \"7\", \"eight\": \"8\", \"nine\": \"9\"}\n",
    "\n",
    "    for word, replacement in replace_dict.items():\n",
    "        index = calibration.find(word)\n",
    "        while index != -1:\n",
    "            middle_index = index + len(word) // 2\n",
    "            calibration = calibration[:middle_index] + replacement + calibration[middle_index:]\n",
    "            index = calibration.find(word, middle_index + 1)\n",
    "        \n",
    "    inp = list(calibration)\n",
    "    digits = []\n",
    "    \n",
    "    for i in inp:\n",
    "        if i.isdigit():\n",
    "            digits.append(i)\n",
    "\n",
    "    value_2 += int(digits[0] + digits[-1])\n",
    "\n",
    "print(value_2)"
   ]
  },
  {
   "cell_type": "code",
   "execution_count": null,
   "id": "96e16b35-8baf-494a-8ba7-3462aace343b",
   "metadata": {},
   "outputs": [],
   "source": []
  }
 ],
 "metadata": {
  "kernelspec": {
   "display_name": "Python 3 (ipykernel)",
   "language": "python",
   "name": "python3"
  },
  "language_info": {
   "codemirror_mode": {
    "name": "ipython",
    "version": 3
   },
   "file_extension": ".py",
   "mimetype": "text/x-python",
   "name": "python",
   "nbconvert_exporter": "python",
   "pygments_lexer": "ipython3",
   "version": "3.9.17"
  }
 },
 "nbformat": 4,
 "nbformat_minor": 5
}
