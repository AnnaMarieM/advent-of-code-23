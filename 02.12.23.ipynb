{
 "cells": [
  {
   "cell_type": "code",
   "execution_count": 1,
   "id": "8822fa75-8b92-4bac-8114-2dc10bfc122d",
   "metadata": {},
   "outputs": [],
   "source": [
    "with open(\"02input.txt\") as file:\n",
    "    games = file.read().replace(\"\\n\", \"\").split(\"Game \")[1:]"
   ]
  },
  {
   "cell_type": "code",
   "execution_count": 2,
   "id": "119b4407-437a-4d91-b5c6-ba3f55866e16",
   "metadata": {},
   "outputs": [],
   "source": [
    "# Data processing\n",
    "game_dict = dict()\n",
    "\n",
    "for game in games:\n",
    "    instances = (game.split(\": \")[1]).split(\"; \")\n",
    "    instance_list = []\n",
    "    for instance in instances:\n",
    "        draw_dict = dict()\n",
    "        draws = instance.split(\", \")\n",
    "        for draw in draws:\n",
    "            num = [int(s) for s in draw.split() if s.isdigit()][0]\n",
    "            if \"red\" in draw:\n",
    "                draw_dict[\"red\"] = num\n",
    "\n",
    "            elif \"green\" in draw:\n",
    "                draw_dict[\"green\"] = num\n",
    "            \n",
    "            elif \"blue\" in draw:\n",
    "                draw_dict[\"blue\"] = num\n",
    "                \n",
    "        if \"red\" not in draw_dict:\n",
    "                draw_dict[\"red\"] = 0\n",
    "\n",
    "        if \"green\" not in draw_dict:\n",
    "            draw_dict[\"green\"] = 0\n",
    "            \n",
    "        if \"blue\" not in draw_dict:\n",
    "            draw_dict[\"blue\"] = 0\n",
    "        \n",
    "        instance_list.append(draw_dict)\n",
    "\n",
    "    game_dict[int(game.split(\": \")[0])] = instance_list"
   ]
  },
  {
   "cell_type": "code",
   "execution_count": 3,
   "id": "b7aaa042-8ceb-4e9b-beba-403e1772d288",
   "metadata": {},
   "outputs": [
    {
     "name": "stdout",
     "output_type": "stream",
     "text": [
      "2776\n"
     ]
    }
   ],
   "source": [
    "# First part\n",
    "max_red = 12\n",
    "max_green = 13\n",
    "max_blue = 14\n",
    "\n",
    "num_games = 0\n",
    "\n",
    "for game in game_dict:\n",
    "    possible = True\n",
    "    for draw in game_dict[game]:\n",
    "        if draw[\"red\"] > max_red:\n",
    "            possible = False\n",
    "\n",
    "        elif draw[\"green\"] > max_green:\n",
    "            possible = False\n",
    "            \n",
    "        elif draw[\"blue\"] > max_blue:\n",
    "            possible = False\n",
    "\n",
    "    if possible == True:\n",
    "        num_games += game\n",
    "\n",
    "print(num_games)"
   ]
  },
  {
   "cell_type": "code",
   "execution_count": 4,
   "id": "6db1789d-9598-48be-9440-f4eb0942f8cc",
   "metadata": {},
   "outputs": [
    {
     "name": "stdout",
     "output_type": "stream",
     "text": [
      "68638\n"
     ]
    }
   ],
   "source": [
    "# Second part\n",
    "num_mins = 0\n",
    "\n",
    "for game in game_dict:\n",
    "    min_red = 0\n",
    "    min_green = 0\n",
    "    min_blue = 0\n",
    "    \n",
    "    for draw in game_dict[game]:\n",
    "        if draw[\"red\"] > min_red:\n",
    "            min_red = draw[\"red\"]\n",
    "\n",
    "        if draw[\"green\"] > min_green:\n",
    "            min_green = draw[\"green\"]\n",
    "            \n",
    "        if draw[\"blue\"] > min_blue:\n",
    "            min_blue = draw[\"blue\"]\n",
    "\n",
    "    min = min_red * min_green * min_blue\n",
    "    num_mins += min\n",
    "\n",
    "print(num_mins)"
   ]
  },
  {
   "cell_type": "code",
   "execution_count": null,
   "id": "e333eca3-b983-4c4e-bfb1-26e156d60686",
   "metadata": {},
   "outputs": [],
   "source": []
  }
 ],
 "metadata": {
  "kernelspec": {
   "display_name": "Python 3 (ipykernel)",
   "language": "python",
   "name": "python3"
  },
  "language_info": {
   "codemirror_mode": {
    "name": "ipython",
    "version": 3
   },
   "file_extension": ".py",
   "mimetype": "text/x-python",
   "name": "python",
   "nbconvert_exporter": "python",
   "pygments_lexer": "ipython3",
   "version": "3.9.17"
  }
 },
 "nbformat": 4,
 "nbformat_minor": 5
}
