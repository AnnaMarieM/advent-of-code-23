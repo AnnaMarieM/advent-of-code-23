{
 "cells": [
  {
   "cell_type": "code",
   "execution_count": 214,
   "id": "6cfadbc6-1ce2-4ad8-91f4-5d19280c87e9",
   "metadata": {},
   "outputs": [
    {
     "name": "stdout",
     "output_type": "stream",
     "text": [
      "37718\n",
      "40995\n"
     ]
    }
   ],
   "source": [
    "import numpy as np\n",
    "\n",
    "with open(\"13input.txt\") as file:\n",
    "    mirrors = [place.split(\"\\n\") for place in file.read().replace(\".\", \"0\").replace(\"#\", \"1\").split(\"\\n\\n\")]\n",
    "    mirrors = [[list(row) for row in matrix] for matrix in mirrors]\n",
    "\n",
    "def mirror_matrix_row_all(matrix):\n",
    "    m, n = len(matrix), len(matrix[0])\n",
    "    lines = []\n",
    "    for i in range(1,m):\n",
    "        reflection = True\n",
    "        for j in range(n):\n",
    "            col = [row[j] for row in matrix]\n",
    "            l1, l2 = col[:i], col[i:]\n",
    "            m = min(len(l1), len(l2))\n",
    "            l1, l2 = l1[-m:][::-1], l2[:m]\n",
    "            if l1 != l2:\n",
    "                reflection = False\n",
    "                break\n",
    "        if reflection == True:\n",
    "            lines.append((i, 0))\n",
    "    return lines\n",
    "\n",
    "def transpose(matrix):\n",
    "    return [list(row) for row in zip(*matrix)]\n",
    "\n",
    "# Part 1\n",
    "reflections_1 = []\n",
    "for mirror in mirrors:\n",
    "    r = mirror_matrix_row_all(mirror)\n",
    "    if r == []:\n",
    "        r = mirror_matrix_row_all(transpose(mirror))[0]\n",
    "        reflections_1.append((r[1], r[0]))           \n",
    "    else:\n",
    "        reflections_1.append((100 * r[0][0], r[0][1]))\n",
    "\n",
    "print(sum(r[0] for r in reflections_1) + sum(r[1] for r in reflections_1)) \n",
    "                         \n",
    "# Part 2\n",
    "def mirror_matrix_row_all_incorrect(matrix):\n",
    "    for i in range(len(mirror)):\n",
    "        for j in range(len(mirror[i])):\n",
    "            o = mirror_matrix_row_all(matrix)\n",
    "            matrix[i][j] = str(int(matrix[i][j]) ^ 1)\n",
    "            r = mirror_matrix_row_all(matrix)\n",
    "            if r != []:\n",
    "                for tup in r:\n",
    "                    if tup not in o:\n",
    "                        return tup\n",
    "            matrix[i][j] = str(int(matrix[i][j]) ^ 1)\n",
    "    return (0,0)\n",
    "            \n",
    "reflections_2 = []\n",
    "for mirror in mirrors:\n",
    "    r = mirror_matrix_row_all_incorrect(mirror)\n",
    "    if r == (0,0):\n",
    "        mirror = transpose(mirror)\n",
    "        r = mirror_matrix_row_all_incorrect(mirror)\n",
    "        reflections_2.append((r[1], r[0]))   \n",
    "    else:\n",
    "        reflections_2.append((100 * r[0], r[1]))  \n",
    "\n",
    "print(sum(r[0] for r in reflections_2) + sum(r[1] for r in reflections_2)) "
   ]
  }
 ],
 "metadata": {
  "kernelspec": {
   "display_name": "Python 3 (ipykernel)",
   "language": "python",
   "name": "python3"
  },
  "language_info": {
   "codemirror_mode": {
    "name": "ipython",
    "version": 3
   },
   "file_extension": ".py",
   "mimetype": "text/x-python",
   "name": "python",
   "nbconvert_exporter": "python",
   "pygments_lexer": "ipython3",
   "version": "3.12.0"
  }
 },
 "nbformat": 4,
 "nbformat_minor": 5
}
