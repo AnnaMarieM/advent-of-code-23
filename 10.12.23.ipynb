{
 "cells": [
  {
   "cell_type": "code",
   "execution_count": 13,
   "id": "8bd97df1-7d2c-4011-b4c6-10ac58ef5d9b",
   "metadata": {
    "tags": []
   },
   "outputs": [
    {
     "name": "stdout",
     "output_type": "stream",
     "text": [
      "6947\n",
      "273\n"
     ]
    }
   ],
   "source": [
    "with open(\"10input.txt\") as file:\n",
    "    grid = [list(l) for l in file.read().split(\"\\n\")]\n",
    "\n",
    "beginning = [(i, j) for i, row in enumerate(grid) for j, value in enumerate(row) if value == \"S\"][0]\n",
    "path = [(beginning, \"S\")]\n",
    "\n",
    "# Find init neighbour\n",
    "if 0 < beginning[1] < len(grid[1])-1:\n",
    "    if grid[beginning[0]][beginning[1]-1] in [\"-\", \"L\", \"F\"]:\n",
    "        b = ((beginning[0],beginning[1]-1), grid[beginning[0]][beginning[1]-1])\n",
    "    elif grid[beginning[0]][beginning[1]+1] in [\"-\", \"J\", \"7\"]:\n",
    "        b = ((beginning[0],beginning[1]+1), grid[beginning[0]][beginning[1]+1])\n",
    "else:        \n",
    "    if grid[beginning[0]-1][beginning[1]] in [\"|\", \"7\", \"F\"]:\n",
    "        b = ((beginning[0]-1,beginning[1]), grid[beginning[0]-1][beginning[1]])\n",
    "    elif grid[beginning[0]+1][beginning[1]] in [\"|\", \"J\", \"L\"]:\n",
    "        b = ((beginning[0]+1,beginning[1]), grid[beginning[0]+1][beginning[1]])\n",
    "    \n",
    "path.append(b)\n",
    "\n",
    "a = beginning\n",
    "b = b[0]\n",
    "\n",
    "while b != beginning:\n",
    "    i = b[0]\n",
    "    j = b[1]\n",
    "    if grid[i][j] == \"|\":\n",
    "        neighbor_candidates = [(i - 1, j), (i + 1, j)]\n",
    "    elif grid[i][j] == \"-\":\n",
    "        neighbor_candidates = [(i, j - 1), (i, j + 1)]\n",
    "    elif grid[i][j] == \"L\":\n",
    "        neighbor_candidates = [(i - 1, j), (i, j + 1)]\n",
    "    elif grid[i][j] == \"J\":\n",
    "        neighbor_candidates = [(i - 1, j), (i, j - 1)]\n",
    "    elif grid[i][j] == \"7\":\n",
    "        neighbor_candidates = [(i + 1, j), (i, j - 1)]\n",
    "    elif grid[i][j] == \"F\":\n",
    "        neighbor_candidates = [(i + 1, j), (i, j + 1)]\n",
    "    c = [t for t in neighbor_candidates if t != a][0]\n",
    "    path.append((c, grid[c[0]][c[1]]))\n",
    "    a,b = b,c\n",
    "\n",
    "#\n",
    "maximum = len(path) // 2\n",
    "print(maximum)\n",
    "\n",
    "p = set(el[0] for el in path)\n",
    "inclosed = 0\n",
    "for i in range(len(grid)):\n",
    "    count = False\n",
    "    for j in range(len(grid[0])):\n",
    "        if (i, j) in p:\n",
    "            if grid[i][j] in \"|JL\" or grid[i][j] == \"S\":\n",
    "                count = not count\n",
    "                \n",
    "        else:\n",
    "            inclosed += count\n",
    "            \n",
    "print(inclosed)    \n"
   ]
  },
  {
   "cell_type": "code",
   "execution_count": null,
   "id": "41f0627a-639b-4a57-bb60-27003f47b5d8",
   "metadata": {},
   "outputs": [],
   "source": []
  }
 ],
 "metadata": {
  "kernelspec": {
   "display_name": "Python 3 (ipykernel)",
   "language": "python",
   "name": "python3"
  },
  "language_info": {
   "codemirror_mode": {
    "name": "ipython",
    "version": 3
   },
   "file_extension": ".py",
   "mimetype": "text/x-python",
   "name": "python",
   "nbconvert_exporter": "python",
   "pygments_lexer": "ipython3",
   "version": "3.12.0"
  }
 },
 "nbformat": 4,
 "nbformat_minor": 5
}
