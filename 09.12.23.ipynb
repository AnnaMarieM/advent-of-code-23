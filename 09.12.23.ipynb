{
 "cells": [
  {
   "cell_type": "code",
   "execution_count": 60,
   "id": "b8ea54cc-4b83-41ce-9108-81ecd0260ed4",
   "metadata": {},
   "outputs": [],
   "source": [
    "#with open(\"untitled.txt\") as file:\n",
    "with open(\"09input.txt\") as file:\n",
    "    history = file.read().split(\"\\n\")\n",
    "\n",
    "history = [[int(num) for num in seq.split()] for seq in history]"
   ]
  },
  {
   "cell_type": "code",
   "execution_count": 61,
   "id": "eec9d8bb-a048-44c3-b384-cbd40f25e416",
   "metadata": {},
   "outputs": [
    {
     "name": "stdout",
     "output_type": "stream",
     "text": [
      "1798691765\n"
     ]
    }
   ],
   "source": [
    "# Part 1\n",
    "interpolations = []\n",
    "\n",
    "for h in history:\n",
    "    endings = [h[-1]]\n",
    "    while len(set(h)) != 1:\n",
    "        new_row = []\n",
    "        for i in range(0, len(h) - 1):\n",
    "            new_row.append(h[i + 1] - h[i])\n",
    "        \n",
    "        endings.append(new_row[-1])\n",
    "        h = new_row\n",
    "    if endings[-1] != 0:\n",
    "        endings.append(0)\n",
    "    \n",
    "    end = endings[-1]\n",
    "    for i in range(len(endings)-1)[::-1]:\n",
    "        end += endings[i]\n",
    "    interpolations.append(end)\n",
    "\n",
    "print(sum(interpolations))"
   ]
  },
  {
   "cell_type": "code",
   "execution_count": 62,
   "id": "7543f02b-1994-495a-b6b5-53c847452235",
   "metadata": {},
   "outputs": [
    {
     "name": "stdout",
     "output_type": "stream",
     "text": [
      "1104\n"
     ]
    }
   ],
   "source": [
    "# Part 2\n",
    "interpolations = []\n",
    "\n",
    "for h in history:\n",
    "    beginnings = [h[0]]\n",
    "    while len(set(h)) != 1:\n",
    "        new_row = []\n",
    "        for i in range(0, len(h) - 1):\n",
    "            new_row.append(h[i + 1] - h[i])\n",
    "        \n",
    "        beginnings.append(new_row[0])\n",
    "        h = new_row\n",
    "    if beginnings[-1] != 0:\n",
    "        beginnings.append(0)\n",
    "    n = [0]\n",
    "    for i in beginnings[::-1]:\n",
    "        n.append(i - n[-1])\n",
    "    interpolations.append(n[-1])\n",
    "\n",
    "\n",
    "print(sum(interpolations))"
   ]
  },
  {
   "cell_type": "code",
   "execution_count": null,
   "id": "387671fc-370d-4827-9a42-366d0e66aa72",
   "metadata": {},
   "outputs": [],
   "source": []
  }
 ],
 "metadata": {
  "kernelspec": {
   "display_name": "Python 3",
   "language": "python",
   "name": "python3"
  },
  "language_info": {
   "codemirror_mode": {
    "name": "ipython",
    "version": 3
   },
   "file_extension": ".py",
   "mimetype": "text/x-python",
   "name": "python",
   "nbconvert_exporter": "python",
   "pygments_lexer": "ipython3",
   "version": "3.6.13"
  }
 },
 "nbformat": 4,
 "nbformat_minor": 5
}
