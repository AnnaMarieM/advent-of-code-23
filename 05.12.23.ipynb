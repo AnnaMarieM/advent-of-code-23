{
 "cells": [
  {
   "cell_type": "code",
   "execution_count": 123,
   "id": "850cb2f1-79d6-45b5-8b81-23a2d97b5297",
   "metadata": {},
   "outputs": [],
   "source": [
    "# At first define multiple functions to work with intervals.\n",
    "def intersection(interval1, interval2):\n",
    "    interval = (max(interval1[0], interval2[0]), min(interval1[-1], interval2[-1])) \n",
    "    if interval[0] <= interval[-1]:\n",
    "        return interval\n",
    "    else:\n",
    "        return None\n",
    "    \n",
    "def difference(interval1, interval2):\n",
    "    result = []\n",
    "    if interval1[0] < interval2[0]:\n",
    "        left_difference = (interval1[0], min(interval1[1], interval2[0]) - 1)\n",
    "        if left_difference[0] <= left_difference[1]:\n",
    "            result.append(left_difference)\n",
    "    if interval1[1] > interval2[1]:\n",
    "        right_difference = (max(interval1[0], interval2[1]) + 1, interval1[1])\n",
    "        if right_difference[0] <= right_difference[1]:\n",
    "            result.append(right_difference)\n",
    "    if interval1[0] >= interval2[1] or interval1[1] <= interval2[0]:\n",
    "        result.append(interval1)\n",
    "    if interval1[0] < interval2[0] and interval1[1] < interval2[0]:\n",
    "        result = [interval1]\n",
    "    elif interval1[0] > interval2[1] and interval1[1] > interval2[1]:\n",
    "        result = [interval1]\n",
    "    elif interval1[1] == interval2[0]:\n",
    "        if  interval1[0] == interval1[1]:\n",
    "            result = []  \n",
    "        else:\n",
    "            result = [(interval1[0], interval1[1] - 1)]\n",
    "    elif interval1[0] == interval2[1]:\n",
    "        if  interval1[0] == interval1[1]:\n",
    "            result = []\n",
    "        else:\n",
    "            result = [(interval1[0] + 1, interval1[1])]\n",
    "    return result\n",
    "\n",
    "def addition(interval, number):\n",
    "    return (interval[0] + number, interval[-1] + number)"
   ]
  },
  {
   "cell_type": "code",
   "execution_count": 124,
   "id": "2609aa9a-6931-43ef-8227-5989ed22ce88",
   "metadata": {},
   "outputs": [
    {
     "name": "stdout",
     "output_type": "stream",
     "text": [
      "382895070\n",
      "17729182\n"
     ]
    }
   ],
   "source": [
    "with open(\"05input.txt\") as file:\n",
    "#with open(\"051.txt\") as file:\n",
    "    seeds, *maps = file.read().split(\"\\n\\n\")\n",
    "    \n",
    "maps = [[list(map(int, line.split())) for line in m.splitlines()[1:]] for m in maps]\n",
    "\n",
    "# First part\n",
    "seeds1 = [int(seed) for seed in seeds.split()[1:]]\n",
    "\n",
    "for part in maps:\n",
    "    for index, seed in enumerate(seeds1):\n",
    "        for mapping in part:\n",
    "            if seed in range(mapping[1], mapping[1] + mapping[2]):\n",
    "                seeds1[index] = seed - mapping[1] + mapping[0]\n",
    "        \n",
    "print(min(seeds1))\n",
    "\n",
    "# Second part\n",
    "seeds2 = [int(seed) for seed in seeds.split()[1:]]\n",
    "seeds2 = [(seed, seed + length - 1) for seed, length in zip(seeds2[::2], seeds2[1::2])]\n",
    "\n",
    "for part in maps:\n",
    "    for index, seed in enumerate(seeds2):\n",
    "        for m in part:\n",
    "            mapping_interval = (m[1], m[1] + m[2] - 1)\n",
    "            shift = - m[1] + m[0] \n",
    "            intersection_interval = intersection(seed, mapping_interval)\n",
    "            difference_interval = difference(seed, mapping_interval)\n",
    "            if intersection_interval is not None:\n",
    "                if difference_interval is not []:\n",
    "                    for interval in difference_interval:\n",
    "                        seeds2.append(interval)\n",
    "                seeds2[index] = addition(intersection_interval, shift)\n",
    "                break\n",
    "\n",
    "minimum = min(seeds2, key = lambda x: x[0])\n",
    "print(minimum[0])"
   ]
  }
 ],
 "metadata": {
  "kernelspec": {
   "display_name": "Python 3",
   "language": "python",
   "name": "python3"
  },
  "language_info": {
   "codemirror_mode": {
    "name": "ipython",
    "version": 3
   },
   "file_extension": ".py",
   "mimetype": "text/x-python",
   "name": "python",
   "nbconvert_exporter": "python",
   "pygments_lexer": "ipython3",
   "version": "3.6.13"
  }
 },
 "nbformat": 4,
 "nbformat_minor": 5
}
