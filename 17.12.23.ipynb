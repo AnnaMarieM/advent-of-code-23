{
 "cells": [
  {
   "cell_type": "code",
   "execution_count": 2,
   "id": "ab103014-a421-4b37-b26a-ec6496ccbb5a",
   "metadata": {},
   "outputs": [
    {
     "name": "stdout",
     "output_type": "stream",
     "text": [
      "1008\n",
      "1210\n"
     ]
    }
   ],
   "source": [
    "import heapq\n",
    "with open(\"17input.txt\") as file:\n",
    "    city = [[int(block) for block in line] for line in file.read().splitlines()]\n",
    "\n",
    "def minimal_heat(start, end, least_steps, most_steps):\n",
    "    rows, cols = len(city), len(city[0])\n",
    "    queue = [(0, start[0], start[1], 0, 0)]\n",
    "    seen = set()\n",
    "    while queue:\n",
    "        heat, i, j, step_i, step_j = heapq.heappop(queue)\n",
    "        if (i, j) == end:\n",
    "            return heat\n",
    "        if (i, j, step_i, step_j) in seen:\n",
    "            continue\n",
    "        seen.add((i, j, step_i, step_j))\n",
    "        directions = {(1, 0), (0, 1), (-1, 0), (0, -1)} - {(step_i, step_j), (-step_i, -step_j)}\n",
    "        for direction1, direction2 in directions:\n",
    "            i_try, j_try, h = i, j, heat\n",
    "            for k in range(1, most_steps + 1):\n",
    "                i_try, j_try = i_try + direction1, j_try + direction2\n",
    "                if 0 <= i_try < rows and 0 <= j_try < cols:\n",
    "                    h += city[i_try][j_try]\n",
    "                    if k >= least_steps:\n",
    "                        heapq.heappush(queue, (h, i_try, j_try, direction1, direction2))\n",
    "                        \n",
    "print(minimal_heat((0, 0), (len(city)-1, len(city[0])-1), 1, 3))\n",
    "print(minimal_heat((0, 0), (len(city)-1, len(city[0])-1), 4, 10))"
   ]
  }
 ],
 "metadata": {
  "kernelspec": {
   "display_name": "Python 3 (ipykernel)",
   "language": "python",
   "name": "python3"
  },
  "language_info": {
   "codemirror_mode": {
    "name": "ipython",
    "version": 3
   },
   "file_extension": ".py",
   "mimetype": "text/x-python",
   "name": "python",
   "nbconvert_exporter": "python",
   "pygments_lexer": "ipython3",
   "version": "3.12.0"
  }
 },
 "nbformat": 4,
 "nbformat_minor": 5
}
