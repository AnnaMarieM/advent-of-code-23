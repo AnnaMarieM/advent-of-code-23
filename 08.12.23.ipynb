{
 "cells": [
  {
   "cell_type": "code",
   "execution_count": 1,
   "id": "127edd1e-40de-4b12-8ac1-b4623b73e4c2",
   "metadata": {},
   "outputs": [],
   "source": [
    "import math\n",
    "with open(\"08input.txt\") as file:\n",
    "    instructions, *maps = file.read().split(\"\\n\\n\")\n",
    "\n",
    "# Data preparation\n",
    "instructions = list(instructions.replace(\"L\", \"0\").replace(\"R\", \"1\"))\n",
    "instructions = [int(instruction) for instruction in instructions]\n",
    "maps = maps[0].split(\"\\n\")\n",
    "\n",
    "maps_dict = {}\n",
    "for mapping in maps:\n",
    "    mapping = mapping.split(\" = \")\n",
    "    maps_dict[mapping[0]] = eval(mapping[1].replace(\"(\", \"('\").replace(\", \", \"','\").replace(\")\", \"')\"))"
   ]
  },
  {
   "cell_type": "code",
   "execution_count": 2,
   "id": "f83f3936-f111-4ccc-b0e8-8741e3505702",
   "metadata": {},
   "outputs": [
    {
     "name": "stdout",
     "output_type": "stream",
     "text": [
      "20777\n"
     ]
    }
   ],
   "source": [
    "# Part 1\n",
    "length = 0\n",
    "instruction = 0\n",
    "step = \"AAA\"\n",
    "\n",
    "while step != \"ZZZ\":\n",
    "    step = maps_dict[step][instructions[instruction]]\n",
    "    \n",
    "    if instruction == len(instructions) - 1:\n",
    "        instruction = 0\n",
    "    else:\n",
    "        instruction += 1\n",
    "    \n",
    "    length += 1\n",
    "    \n",
    "print(length)"
   ]
  },
  {
   "cell_type": "code",
   "execution_count": 3,
   "id": "f78ad56d-330d-4902-a6b2-143fd415716a",
   "metadata": {},
   "outputs": [
    {
     "data": {
      "text/plain": [
       "13289612809129"
      ]
     },
     "execution_count": 3,
     "metadata": {},
     "output_type": "execute_result"
    }
   ],
   "source": [
    "# Part 2\n",
    "steps = []\n",
    "for val in maps_dict.keys():\n",
    "    if val.endswith(\"A\"):\n",
    "        steps.append(val)\n",
    "\n",
    "for index, step in enumerate(steps):\n",
    "    length = 0\n",
    "    instruction = 0\n",
    "    while not step.endswith(\"Z\"):\n",
    "        step = maps_dict[step][instructions[instruction]]\n",
    "\n",
    "        if instruction == len(instructions) - 1:\n",
    "            instruction = 0\n",
    "        else:\n",
    "            instruction += 1\n",
    "\n",
    "        length += 1\n",
    "    steps[index] = length\n",
    "    \n",
    "def find_lcm_of_list(numbers):\n",
    "    lcm = numbers[0]\n",
    "    for i in range(1, len(numbers)):\n",
    "        lcm = (lcm * numbers[i]) // math.gcd(lcm, numbers[i])\n",
    "    return lcm\n",
    "\n",
    "find_lcm_of_list(steps)  "
   ]
  },
  {
   "cell_type": "code",
   "execution_count": null,
   "id": "d32adc42-5a37-4c5f-a224-e9f79d8acfc0",
   "metadata": {},
   "outputs": [],
   "source": []
  }
 ],
 "metadata": {
  "kernelspec": {
   "display_name": "Python 3",
   "language": "python",
   "name": "python3"
  },
  "language_info": {
   "codemirror_mode": {
    "name": "ipython",
    "version": 3
   },
   "file_extension": ".py",
   "mimetype": "text/x-python",
   "name": "python",
   "nbconvert_exporter": "python",
   "pygments_lexer": "ipython3",
   "version": "3.6.13"
  }
 },
 "nbformat": 4,
 "nbformat_minor": 5
}
